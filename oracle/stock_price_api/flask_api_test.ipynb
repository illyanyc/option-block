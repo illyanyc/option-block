{
 "cells": [
  {
   "cell_type": "code",
   "execution_count": 3,
   "id": "79a23993-8329-4853-80d4-d4cfe28b3a2e",
   "metadata": {},
   "outputs": [],
   "source": [
    "# from yfinance import Ticker\n",
    "import alpaca_trade_api as tradeapi"
   ]
  },
  {
   "cell_type": "code",
   "execution_count": 4,
   "id": "5df338f4-9458-4e4d-9700-8390b22e85bd",
   "metadata": {},
   "outputs": [],
   "source": [
    "api = tradeapi.REST(\n",
    "\"PKRG0ECAA5JI5N80I4WY\",\n",
    "\"GYCxaneWb48clfFItOUvCYhf6DUEvgmAEl7s16jC\",\n",
    "api_version = \"v2\"\n",
    ")"
   ]
  },
  {
   "cell_type": "code",
   "execution_count": 38,
   "id": "701a1c29",
   "metadata": {},
   "outputs": [],
   "source": [
    "def display_quote(symbol):\n",
    "#     quote = Ticker(symbol).info[\"currentPrice\"]\n",
    "    barset = api.get_barset(symbol, 'day', limit=1)\n",
    "    return barset[symbol][0].c"
   ]
  },
  {
   "cell_type": "code",
   "execution_count": 39,
   "id": "2fc38fbe",
   "metadata": {},
   "outputs": [
    {
     "data": {
      "text/plain": [
       "708.4794"
      ]
     },
     "execution_count": 39,
     "metadata": {},
     "output_type": "execute_result"
    }
   ],
   "source": [
    "display_quote(\"TSLA\")"
   ]
  },
  {
   "cell_type": "code",
   "execution_count": null,
   "id": "6744f206",
   "metadata": {},
   "outputs": [],
   "source": []
  }
 ],
 "metadata": {
  "kernelspec": {
   "display_name": "Python 3 (ipykernel)",
   "language": "python",
   "name": "python3"
  },
  "language_info": {
   "codemirror_mode": {
    "name": "ipython",
    "version": 3
   },
   "file_extension": ".py",
   "mimetype": "text/x-python",
   "name": "python",
   "nbconvert_exporter": "python",
   "pygments_lexer": "ipython3",
   "version": "3.9.6"
  }
 },
 "nbformat": 4,
 "nbformat_minor": 5
}
