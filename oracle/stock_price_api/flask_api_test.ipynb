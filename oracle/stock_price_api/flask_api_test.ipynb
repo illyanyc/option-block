{
 "cells": [
  {
   "cell_type": "code",
   "execution_count": 1,
   "id": "f95cfe53",
   "metadata": {},
   "outputs": [],
   "source": [
    "from yfinance import Ticker\n",
    "def display_quote(symbol):\n",
    "    quote = Ticker(symbol).history(period=\"1d\")[\"Close\"].values[0]\n",
    "    return round(quote,2)"
   ]
  },
  {
   "cell_type": "code",
   "execution_count": 2,
   "id": "77e5d2df",
   "metadata": {},
   "outputs": [
    {
     "data": {
      "text/plain": [
       "450.25"
      ]
     },
     "execution_count": 2,
     "metadata": {},
     "output_type": "execute_result"
    }
   ],
   "source": [
    "display_quote(\"SPY\")"
   ]
  },
  {
   "cell_type": "markdown",
   "id": "e827c310",
   "metadata": {},
   "source": [
    "C = call option price <br>\n",
    "N = CDF of the normal distribution <br>\n",
    "St= spot price of an asset <br>\n",
    "K = strike price <br>\n",
    "r = risk-free interest rate <br>\n",
    "t = time to maturity <br>\n",
    "σ = volatility of the asset <br>"
   ]
  },
  {
   "cell_type": "code",
   "execution_count": 1,
   "id": "c9709a60",
   "metadata": {},
   "outputs": [],
   "source": [
    "# Import modules\n",
    "from scipy.stats import norm\n",
    "from math import log, sqrt, exp\n",
    "from datetime import datetime\n",
    "from yfinance import Ticker\n",
    "    \n",
    "def BlackScholes(symbol : str,\n",
    "                 strike : float,\n",
    "                 mat_date : str, #ex: 'Jun 1 2005  1:33PM'\n",
    "                 rf : float,\n",
    "                 call_put_flag : str = \"c\" or \"p\"):\n",
    " \n",
    "    # Get data\n",
    "    ticker = Ticker(symbol)\n",
    "    price = ticker.history(period=\"1d\")[\"Close\"].values[0]\n",
    "    vol = ticker.history(period=\"1Y\")[\"Close\"].std()\n",
    "    div = ticker.info[\"dividendRate\"]\n",
    "    mat_time = ((datetime.strptime(mat_date, '%Y-%m-%d  %I:%M%p') - datetime.now()).days) / 365\n",
    "\n",
    "    # Convert to fraction\n",
    "    rf = rf / 100\n",
    "    vol = vol / 100\n",
    "    div = div / 100\n",
    "    \n",
    "    # Debugging\n",
    "    # print(f\"ticker : {ticker}, price : {price}, vol : {vol}, div : {div}, mat_time : {mat_time}\")\n",
    "\n",
    "    # Calculate d1 and d2\n",
    "    d1 = (log(float(price) / strike)+((rf - div) + vol * vol / 2.) * mat_time) / ( vol * sqrt(mat_time))\n",
    "    d2 = d1 - vol * sqrt(mat_time)\n",
    "    \n",
    "    # Calculate premium\n",
    "    if call_put_flag =='c':\n",
    "        return price * exp(-div * mat_time) * norm.cdf(d1) - strike * exp(-rf * mat_time) * norm.cdf(d2)\n",
    "    \n",
    "    elif call_put_flag == \"p\":\n",
    "        return strike * exp(-rf * mat_time) * norm.cdf(-d2) -price * exp(-div * mat_time) * norm.cdf(-d1)\n",
    "    \n",
    "    else:\n",
    "        raise CustomException(\"Error calculating option premium\")"
   ]
  },
  {
   "cell_type": "code",
   "execution_count": 2,
   "id": "4a0ae220",
   "metadata": {},
   "outputs": [
    {
     "data": {
      "text/plain": [
       "3.668049380810089"
      ]
     },
     "execution_count": 2,
     "metadata": {},
     "output_type": "execute_result"
    }
   ],
   "source": [
    "from yfinance import Ticker\n",
    "\n",
    "BlackScholes(call_put_flag = \"c\",\n",
    "             symbol = \"AAPL\",\n",
    "             strike = 148,\n",
    "             mat_date = '2021-12-15 1:33PM',\n",
    "             rf = 0.25)"
   ]
  },
  {
   "cell_type": "code",
   "execution_count": 3,
   "id": "c9f0d1d2",
   "metadata": {},
   "outputs": [],
   "source": [
    "# import dependancies\n",
    "from yfinance import Ticker\n",
    "import datetime as dt\n",
    "    \n",
    "def OptionPrice(symbol : str,\n",
    "                mat_date : str,\n",
    "                strike : float,\n",
    "                call_put_flag : str = \"c\" or \"p\"):\n",
    "    \n",
    "    ticker = Ticker(symbol)\n",
    "    \n",
    "    # get closest date\n",
    "    option_dates = ticker.options\n",
    "    option_dates = [dt.datetime.strptime(date, '%Y-%m-%d').date() for date in option_dates]\n",
    "    date = min(option_dates, key=lambda x: abs(x - dt.datetime.strptime(mat_date, '%Y-%m-%d').date()))\n",
    "    date = date.strftime('%Y-%m-%d')\n",
    "    \n",
    "    option_chain = None\n",
    "    \n",
    "    if call_put_flag == \"c\":\n",
    "        option_chain = ticker.option_chain(date).calls\n",
    "    \n",
    "    elif call_put_flag == \"p\":\n",
    "        option_chain = ticker.option_chain(date).puts\n",
    "    \n",
    "    else:\n",
    "        raise CustomException(\"Error getting option premiums\")\n",
    "        \n",
    "    \n",
    "    closest_strike = min(option_chain[\"strike\"], key=lambda x: abs(x - strike))\n",
    "    \n",
    "    option = option_chain[option_chain[\"strike\"] == closest_strike]\n",
    "    \n",
    "    return option.to_json"
   ]
  },
  {
   "cell_type": "code",
   "execution_count": 4,
   "id": "e121721e",
   "metadata": {},
   "outputs": [
    {
     "data": {
      "text/plain": [
       "<bound method NDFrame.to_json of          contractSymbol       lastTradeDate  strike  lastPrice   bid  ask  \\\n",
       "19  AAPL211217C00160000 2021-08-27 19:53:19   160.0       3.77  3.65  3.8   \n",
       "\n",
       "    change  percentChange  volume  openInterest  impliedVolatility  \\\n",
       "19    0.12       3.287668     542         35911           0.243111   \n",
       "\n",
       "    inTheMoney contractSize currency  \n",
       "19       False      REGULAR      USD  >"
      ]
     },
     "execution_count": 4,
     "metadata": {},
     "output_type": "execute_result"
    }
   ],
   "source": [
    "OptionPrice(symbol = \"AAPL\",\n",
    "            mat_date = \"2021-12-15\",\n",
    "            strike = 160,\n",
    "            call_put_flag  = \"c\")"
   ]
  },
  {
   "cell_type": "code",
   "execution_count": null,
   "id": "dbc741fb",
   "metadata": {},
   "outputs": [],
   "source": []
  }
 ],
 "metadata": {
  "kernelspec": {
   "display_name": "Python 3",
   "language": "python",
   "name": "python3"
  },
  "language_info": {
   "codemirror_mode": {
    "name": "ipython",
    "version": 3
   },
   "file_extension": ".py",
   "mimetype": "text/x-python",
   "name": "python",
   "nbconvert_exporter": "python",
   "pygments_lexer": "ipython3",
   "version": "3.7.9"
  }
 },
 "nbformat": 4,
 "nbformat_minor": 5
}
