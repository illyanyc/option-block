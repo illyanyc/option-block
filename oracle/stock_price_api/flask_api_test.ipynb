{
 "cells": [
  {
   "cell_type": "code",
   "execution_count": 3,
   "id": "79a23993-8329-4853-80d4-d4cfe28b3a2e",
   "metadata": {},
   "outputs": [],
   "source": [
    "from yfinance import Ticker\n"
   ]
  },
  {
   "cell_type": "code",
   "execution_count": null,
   "id": "5df338f4-9458-4e4d-9700-8390b22e85bd",
   "metadata": {},
   "outputs": [],
   "source": []
  },
  {
   "cell_type": "code",
   "execution_count": 4,
   "id": "701a1c29",
   "metadata": {},
   "outputs": [],
   "source": [
    "def display_quote(symbol):\n",
    "    quote = Ticker(symbol).info\n",
    "    return quote"
   ]
  },
  {
   "cell_type": "code",
   "execution_count": 5,
   "id": "2fc38fbe",
   "metadata": {},
   "outputs": [
    {
     "data": {
      "text/plain": [
       "{'exchange': 'PCX',\n",
       " 'shortName': 'SPDR S&P 500',\n",
       " 'longName': 'SPDR S&P 500 ETF Trust',\n",
       " 'exchangeTimezoneName': 'America/New_York',\n",
       " 'exchangeTimezoneShortName': 'EDT',\n",
       " 'isEsgPopulated': False,\n",
       " 'gmtOffSetMilliseconds': '-14400000',\n",
       " 'quoteType': 'ETF',\n",
       " 'symbol': 'SPY',\n",
       " 'messageBoardId': 'finmb_6160262',\n",
       " 'market': 'us_market',\n",
       " 'annualHoldingsTurnover': None,\n",
       " 'enterpriseToRevenue': None,\n",
       " 'beta3Year': 1,\n",
       " 'profitMargins': None,\n",
       " 'enterpriseToEbitda': None,\n",
       " '52WeekChange': None,\n",
       " 'morningStarRiskRating': None,\n",
       " 'forwardEps': None,\n",
       " 'revenueQuarterlyGrowth': None,\n",
       " 'fundInceptionDate': 727660800,\n",
       " 'annualReportExpenseRatio': None,\n",
       " 'totalAssets': 374031319040,\n",
       " 'bookValue': None,\n",
       " 'fundFamily': 'SPDR State Street Global Advisors',\n",
       " 'lastFiscalYearEnd': None,\n",
       " 'netIncomeToCommon': None,\n",
       " 'trailingEps': None,\n",
       " 'lastDividendValue': None,\n",
       " 'SandP52WeekChange': None,\n",
       " 'priceToBook': None,\n",
       " 'nextFiscalYearEnd': None,\n",
       " 'yield': 0.012999999,\n",
       " 'mostRecentQuarter': None,\n",
       " 'enterpriseValue': None,\n",
       " 'priceHint': 2,\n",
       " 'threeYearAverageReturn': 0.1858,\n",
       " 'lastSplitDate': None,\n",
       " 'lastSplitFactor': None,\n",
       " 'legalType': 'Exchange Traded Fund',\n",
       " 'lastDividendDate': None,\n",
       " 'morningStarOverallRating': None,\n",
       " 'earningsQuarterlyGrowth': None,\n",
       " 'priceToSalesTrailing12Months': None,\n",
       " 'pegRatio': None,\n",
       " 'ytdReturn': None,\n",
       " 'forwardPE': None,\n",
       " 'maxAge': 1,\n",
       " 'lastCapGain': None,\n",
       " 'category': 'Large Blend',\n",
       " 'fiveYearAverageReturn': 0.17469999,\n",
       " 'phone': '866-732-8673',\n",
       " 'longBusinessSummary': 'The investment seeks to provide investment results that, before expenses, correspond generally to the price and yield performance of the S&P 500Â® Index.\\n The Trust seeks to achieve its investment objective by holding a portfolio of the common stocks that are included in the index (the â\\x80\\x9cPortfolioâ\\x80\\x9d), with the weight of each stock in the Portfolio substantially corresponding to the weight of such stock in the index.',\n",
       " 'companyOfficers': [],\n",
       " 'previousClose': 447.26,\n",
       " 'regularMarketOpen': 447.97,\n",
       " 'twoHundredDayAverage': 415.42377,\n",
       " 'trailingAnnualDividendYield': 0.0124379555,\n",
       " 'payoutRatio': None,\n",
       " 'volume24Hr': None,\n",
       " 'regularMarketDayHigh': 448.54,\n",
       " 'navPrice': 439.23,\n",
       " 'averageDailyVolume10Day': 79242883,\n",
       " 'regularMarketPreviousClose': 447.26,\n",
       " 'fiftyDayAverage': 438.71686,\n",
       " 'trailingAnnualDividendRate': 5.563,\n",
       " 'open': 447.97,\n",
       " 'toCurrency': None,\n",
       " 'averageVolume10days': 79242883,\n",
       " 'expireDate': None,\n",
       " 'algorithm': None,\n",
       " 'dividendRate': None,\n",
       " 'exDividendDate': None,\n",
       " 'beta': None,\n",
       " 'circulatingSupply': None,\n",
       " 'startDate': None,\n",
       " 'regularMarketDayLow': 447.42,\n",
       " 'currency': 'USD',\n",
       " 'trailingPE': 3.1085713,\n",
       " 'regularMarketVolume': 36180356,\n",
       " 'lastMarket': None,\n",
       " 'maxSupply': None,\n",
       " 'openInterest': None,\n",
       " 'marketCap': None,\n",
       " 'volumeAllCurrencies': None,\n",
       " 'strikePrice': None,\n",
       " 'averageVolume': 60985867,\n",
       " 'dayLow': 447.42,\n",
       " 'ask': 448.08,\n",
       " 'askSize': 2200,\n",
       " 'volume': 36180356,\n",
       " 'fiftyTwoWeekHigh': 448.54,\n",
       " 'fromCurrency': None,\n",
       " 'fiveYearAvgDividendYield': None,\n",
       " 'fiftyTwoWeekLow': 319.8,\n",
       " 'bid': 448.12,\n",
       " 'tradeable': False,\n",
       " 'dividendYield': None,\n",
       " 'bidSize': 1400,\n",
       " 'dayHigh': 448.54,\n",
       " 'regularMarketPrice': 447.97,\n",
       " 'logo_url': ''}"
      ]
     },
     "execution_count": 5,
     "metadata": {},
     "output_type": "execute_result"
    }
   ],
   "source": [
    "display_quote(\"SPY\")"
   ]
  },
  {
   "cell_type": "code",
   "execution_count": null,
   "id": "6744f206",
   "metadata": {},
   "outputs": [],
   "source": []
  }
 ],
 "metadata": {
  "kernelspec": {
   "display_name": "Python 3 (ipykernel)",
   "language": "python",
   "name": "python3"
  },
  "language_info": {
   "codemirror_mode": {
    "name": "ipython",
    "version": 3
   },
   "file_extension": ".py",
   "mimetype": "text/x-python",
   "name": "python",
   "nbconvert_exporter": "python",
   "pygments_lexer": "ipython3",
   "version": "3.9.6"
  }
 },
 "nbformat": 4,
 "nbformat_minor": 5
}
