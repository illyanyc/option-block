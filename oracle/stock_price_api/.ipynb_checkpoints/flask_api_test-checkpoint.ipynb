{
 "cells": [
  {
   "cell_type": "code",
   "execution_count": 1,
   "id": "d5aa26c7",
   "metadata": {},
   "outputs": [],
   "source": [
    "import yfinance as yf"
   ]
  },
  {
   "cell_type": "code",
   "execution_count": 9,
   "id": "701a1c29",
   "metadata": {},
   "outputs": [],
   "source": [
    "def display_quote(symbol):\n",
    "    quote = yf.Ticker(symbol).info['currentPrice']\n",
    "    return quote"
   ]
  },
  {
   "cell_type": "code",
   "execution_count": 10,
   "id": "2fc38fbe",
   "metadata": {},
   "outputs": [
    {
     "data": {
      "text/plain": [
       "680.26"
      ]
     },
     "execution_count": 10,
     "metadata": {},
     "output_type": "execute_result"
    }
   ],
   "source": [
    "display_quote(\"TSLA\")"
   ]
  },
  {
   "cell_type": "code",
   "execution_count": null,
   "id": "6744f206",
   "metadata": {},
   "outputs": [],
   "source": []
  }
 ],
 "metadata": {
  "kernelspec": {
   "display_name": "Python 3",
   "language": "python",
   "name": "python3"
  },
  "language_info": {
   "codemirror_mode": {
    "name": "ipython",
    "version": 3
   },
   "file_extension": ".py",
   "mimetype": "text/x-python",
   "name": "python",
   "nbconvert_exporter": "python",
   "pygments_lexer": "ipython3",
   "version": "3.7.9"
  }
 },
 "nbformat": 4,
 "nbformat_minor": 5
}
